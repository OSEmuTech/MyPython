{
 "cells": [
  {
   "cell_type": "code",
   "execution_count": null,
   "id": "7de65e97",
   "metadata": {},
   "outputs": [],
   "source": [
    "Plot(x**2,[x,-2,2])"
   ]
  },
  {
   "cell_type": "code",
   "execution_count": null,
   "id": "a6a94a93",
   "metadata": {},
   "outputs": [],
   "source": []
  }
 ],
 "metadata": {
  "kernelspec": {
   "display_name": "Python 3 (ipykernel)",
   "language": "python",
   "name": "python3"
  }
 },
 "nbformat": 4,
 "nbformat_minor": 5
}
