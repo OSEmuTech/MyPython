{
 "cells": [
  {
   "cell_type": "code",
   "execution_count": null,
   "id": "7de65e97",
   "metadata": {},
   "outputs": [],
   "source": [
    "Plot(x**2,[x,-2,2])"
   ]
  },
  {
   "cell_type": "code",
   "execution_count": null,
   "id": "a6a94a93",
   "metadata": {},
   "outputs": [],
   "source": []
  }
 ],
 "metadata": {
  "kernelspec": {
   "display_name": "SageMath 9.4",
   "language": "sage",
   "name": "sagemath"
  }
 },
 "nbformat": 4,
 "nbformat_minor": 5
}
